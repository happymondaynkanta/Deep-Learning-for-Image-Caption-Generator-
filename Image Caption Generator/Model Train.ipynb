{
 "cells": [
  {
   "cell_type": "code",
   "execution_count": 1,
   "metadata": {},
   "outputs": [],
   "source": [
    "import pandas as pd\n",
    "import numpy as np\n",
    "import matplotlib.pyplot as plt\n",
    "\n",
    "%matplotlib inline"
   ]
  },
  {
   "cell_type": "code",
   "execution_count": 2,
   "metadata": {},
   "outputs": [
    {
     "data": {
      "text/plain": [
       "35000"
      ]
     },
     "execution_count": 2,
     "metadata": {},
     "output_type": "execute_result"
    }
   ],
   "source": [
    "train_df = pd.read_csv('image_train_dataset.tsv', delimiter='\\t')\n",
    "total_samples = train_df.shape[0]\n",
    "total_samples"
   ]
  },
  {
   "cell_type": "code",
   "execution_count": 3,
   "metadata": {},
   "outputs": [],
   "source": [
    "def preprocess_captions(caption_list):\n",
    "    pc = []\n",
    "    for caption in caption_list:\n",
    "        caption = caption.strip().lower()\n",
    "        caption = caption.replace('.', '').replace(',', '').replace(\"'\", \"\").replace('\"', '')\n",
    "        caption = caption.replace('&','and').replace('(','').replace(')', '').replace('-', ' ')\n",
    "        caption = ' '.join(caption.split()) \n",
    "        caption = '<START> '+caption+' <END>'\n",
    "        pc.append(caption)\n",
    "    return pc"
   ]
  },
  {
   "cell_type": "code",
   "execution_count": 4,
   "metadata": {},
   "outputs": [],
   "source": [
    "train_captions = train_df.caption.tolist()\n",
    "processed_train_captions = preprocess_captions(train_captions)\n",
    "\n",
    "tc_tokens = [caption.split() for caption in processed_train_captions]\n",
    "tc_tokens_length = [len(tokenized_caption) for tokenized_caption in tc_tokens]"
   ]
  },
  {
   "cell_type": "code",
   "execution_count": 5,
   "metadata": {
    "collapsed": true
   },
   "outputs": [],
   "source": [
    "from collections import Counter\n",
    "\n",
    "tc_words = [word.strip() for word_list in tc_tokens for word in word_list]\n",
    "unique_words = list(set(tc_words))\n",
    "token_counter = Counter(unique_words)\n",
    "\n",
    "word_to_index = {item[0]: index+1 for index, item in enumerate(dict(token_counter).items())}\n",
    "word_to_index['<PAD>'] = 0\n",
    "index_to_word = {index: word for word, index in word_to_index.items()}\n",
    "vocab_size = len(word_to_index)\n",
    "max_caption_size = np.max(tc_tokens_length)"
   ]
  },
  {
   "cell_type": "code",
   "execution_count": 6,
   "metadata": {},
   "outputs": [
    {
     "data": {
      "text/plain": [
       "['vocabulary_metadata.pkl']"
      ]
     },
     "execution_count": 6,
     "metadata": {},
     "output_type": "execute_result"
    }
   ],
   "source": [
    "from sklearn.externals import joblib\n",
    "\n",
    "vocab_metadata = dict()\n",
    "vocab_metadata['word2index'] = word_to_index\n",
    "vocab_metadata['index2word'] = index_to_word\n",
    "vocab_metadata['max_caption_size'] = max_caption_size\n",
    "vocab_metadata['vocab_size'] = vocab_size\n",
    "\n",
    "joblib.dump(vocab_metadata, 'vocabulary_metadata.pkl')"
   ]
  },
  {
   "cell_type": "code",
   "execution_count": 7,
   "metadata": {},
   "outputs": [
    {
     "data": {
      "text/plain": [
       "{'index2word': [(0, '<PAD>'),\n",
       "  (1, 'nearby'),\n",
       "  (2, 'flooded'),\n",
       "  (3, 'fundraising'),\n",
       "  (4, 'snowboarder')],\n",
       " 'max_caption_size': 39,\n",
       " 'vocab_size': 7927,\n",
       " 'word2index': [('reflections', 4122),\n",
       "  ('flakes', 1829),\n",
       "  ('flexing', 7684),\n",
       "  ('scaling', 1057),\n",
       "  ('pretend', 6788)]}"
      ]
     },
     "execution_count": 7,
     "metadata": {},
     "output_type": "execute_result"
    }
   ],
   "source": [
    "{k: v if type(v) is not dict \n",
    "         else list(v.items())[:5] \n",
    "             for k, v in vocab_metadata.items()}"
   ]
  },
  {
   "cell_type": "code",
   "execution_count": 5,
   "metadata": {},
   "outputs": [
    {
     "data": {
      "text/plain": [
       "'<START> a black dog is running after a white dog in the snow <END>'"
      ]
     },
     "execution_count": 5,
     "metadata": {},
     "output_type": "execute_result"
    }
   ],
   "source": [
    "processed_train_captions[0]"
   ]
  },
  {
   "cell_type": "code",
   "execution_count": 6,
   "metadata": {},
   "outputs": [],
   "source": [
    "from sklearn.externals import joblib\n",
    "\n",
    "tl_img_feature_map = joblib.load('transfer_learn_img_features.pkl')\n",
    "vocab_metadata = joblib.load('vocabulary_metadata.pkl')\n",
    "\n",
    "\n",
    "train_img_names = train_df.image.tolist()\n",
    "train_img_features = [tl_img_feature_map[img_name] for img_name in train_img_names]\n",
    "train_img_features = np.array(train_img_features)\n",
    "\n",
    "word_to_index = vocab_metadata['word2index']\n",
    "index_to_word = vocab_metadata['index2word'] \n",
    "max_caption_size = vocab_metadata['max_caption_size']\n",
    "vocab_size = vocab_metadata['vocab_size']"
   ]
  },
  {
   "cell_type": "code",
   "execution_count": 8,
   "metadata": {},
   "outputs": [
    {
     "data": {
      "text/plain": [
       "(35000, 4096)"
      ]
     },
     "execution_count": 8,
     "metadata": {},
     "output_type": "execute_result"
    }
   ],
   "source": [
    "train_img_features.shape"
   ]
  },
  {
   "cell_type": "code",
   "execution_count": 63,
   "metadata": {},
   "outputs": [],
   "source": [
    "from keras.preprocessing import sequence\n",
    "\n",
    "def dataset_generator(processed_captions, transfer_learnt_features, vocab_size, max_caption_size, batch_size=32):\n",
    "    partial_caption_set = []\n",
    "    next_word_seq_set = []\n",
    "    img_feature_set = []\n",
    "    batch_count = 0\n",
    "    batch_num = 0\n",
    "    \n",
    "    while True:\n",
    "        for index, caption in enumerate(processed_captions):\n",
    "            img_features = transfer_learnt_features[index]\n",
    "            for cap_idx in range(len(caption.split()) - 1):\n",
    "                partial_caption = [word_to_index[word] for word in caption.split()[:cap_idx+1]]\n",
    "                partial_caption_set.append(partial_caption)\n",
    "\n",
    "                next_word_seq = np.zeros(vocab_size)\n",
    "                next_word_seq[word_to_index[caption.split()[cap_idx+1]]] = 1\n",
    "                next_word_seq_set.append(next_word_seq)\n",
    "                img_feature_set.append(img_features)\n",
    "                batch_count+=1\n",
    "\n",
    "                if batch_count >= batch_size:\n",
    "                    batch_num += 1\n",
    "                    img_feature_set = np.array(img_feature_set)\n",
    "                    partial_caption_set = sequence.pad_sequences(sequences=partial_caption_set, maxlen=max_caption_size, \n",
    "                                                                 padding='post')\n",
    "                    next_word_seq_set = np.array(next_word_seq_set)\n",
    "                    \n",
    "                    yield [[img_feature_set, partial_caption_set], next_word_seq_set]\n",
    "                    batch_count = 0\n",
    "                    partial_caption_set = []\n",
    "                    next_word_seq_set = []\n",
    "                    img_feature_set = []"
   ]
  },
  {
   "cell_type": "code",
   "execution_count": 64,
   "metadata": {},
   "outputs": [
    {
     "name": "stdout",
     "output_type": "stream",
     "text": [
      "Vocab size: 7927\n",
      "Max caption size: 39\n",
      "Test Batch size: 10\n"
     ]
    }
   ],
   "source": [
    "MAX_CAPTION_SIZE = max_caption_size\n",
    "VOCABULARY_SIZE = vocab_size\n",
    "BATCH_SIZE = 10\n",
    "\n",
    "print('Vocab size:', VOCABULARY_SIZE)\n",
    "print('Max caption size:', MAX_CAPTION_SIZE)\n",
    "print('Test Batch size:', BATCH_SIZE)\n",
    "\n",
    "d = dataset_generator(processed_captions=processed_train_captions, \n",
    "                  transfer_learnt_features=train_img_features, \n",
    "                  vocab_size=VOCABULARY_SIZE, max_caption_size=MAX_CAPTION_SIZE,\n",
    "                  batch_size=BATCH_SIZE)\n",
    "d = list(d)\n",
    "img_features, partial_captions = d[0][0]\n",
    "next_word = d[0][1]"
   ]
  },
  {
   "cell_type": "code",
   "execution_count": 42,
   "metadata": {},
   "outputs": [
    {
     "data": {
      "text/plain": [
       "((10, 4096), (10, 39), (10, 7927))"
      ]
     },
     "execution_count": 42,
     "metadata": {},
     "output_type": "execute_result"
    }
   ],
   "source": [
    "img_features.shape, partial_captions.shape, next_word.shape"
   ]
  },
  {
   "cell_type": "code",
   "execution_count": 58,
   "metadata": {},
   "outputs": [
    {
     "data": {
      "text/plain": [
       "array([[0.   , 0.   , 1.704, ..., 0.   , 0.   , 0.   ],\n",
       "       [0.   , 0.   , 1.704, ..., 0.   , 0.   , 0.   ],\n",
       "       [0.   , 0.   , 1.704, ..., 0.   , 0.   , 0.   ],\n",
       "       ...,\n",
       "       [0.   , 0.   , 1.704, ..., 0.   , 0.   , 0.   ],\n",
       "       [0.   , 0.   , 1.704, ..., 0.   , 0.   , 0.   ],\n",
       "       [0.   , 0.   , 1.704, ..., 0.   , 0.   , 0.   ]], dtype=float32)"
      ]
     },
     "execution_count": 58,
     "metadata": {},
     "output_type": "execute_result"
    }
   ],
   "source": [
    "np.round(img_features, 3)"
   ]
  },
  {
   "cell_type": "code",
   "execution_count": 66,
   "metadata": {},
   "outputs": [
    {
     "name": "stdout",
     "output_type": "stream",
     "text": [
      "[[6917    0    0    0    0    0    0    0    0    0    0]\n",
      " [6917 2578    0    0    0    0    0    0    0    0    0]\n",
      " [6917 2578 7371    0    0    0    0    0    0    0    0]\n",
      " [6917 2578 7371 3519    0    0    0    0    0    0    0]\n",
      " [6917 2578 7371 3519 3113    0    0    0    0    0    0]\n",
      " [6917 2578 7371 3519 3113 6720    0    0    0    0    0]\n",
      " [6917 2578 7371 3519 3113 6720    7    0    0    0    0]\n",
      " [6917 2578 7371 3519 3113 6720    7 2578    0    0    0]\n",
      " [6917 2578 7371 3519 3113 6720    7 2578 1076    0    0]\n",
      " [6917 2578 7371 3519 3113 6720    7 2578 1076 3519    0]]\n"
     ]
    }
   ],
   "source": [
    "print(np.array([partial_caption[:11] for partial_caption in partial_captions]))"
   ]
  },
  {
   "cell_type": "code",
   "execution_count": 67,
   "metadata": {},
   "outputs": [
    {
     "name": "stdout",
     "output_type": "stream",
     "text": [
      "[['<START>' '<PAD>' '<PAD>' '<PAD>' '<PAD>' '<PAD>' '<PAD>' '<PAD>'\n",
      "  '<PAD>' '<PAD>' '<PAD>']\n",
      " ['<START>' 'a' '<PAD>' '<PAD>' '<PAD>' '<PAD>' '<PAD>' '<PAD>' '<PAD>'\n",
      "  '<PAD>' '<PAD>']\n",
      " ['<START>' 'a' 'black' '<PAD>' '<PAD>' '<PAD>' '<PAD>' '<PAD>' '<PAD>'\n",
      "  '<PAD>' '<PAD>']\n",
      " ['<START>' 'a' 'black' 'dog' '<PAD>' '<PAD>' '<PAD>' '<PAD>' '<PAD>'\n",
      "  '<PAD>' '<PAD>']\n",
      " ['<START>' 'a' 'black' 'dog' 'is' '<PAD>' '<PAD>' '<PAD>' '<PAD>'\n",
      "  '<PAD>' '<PAD>']\n",
      " ['<START>' 'a' 'black' 'dog' 'is' 'running' '<PAD>' '<PAD>' '<PAD>'\n",
      "  '<PAD>' '<PAD>']\n",
      " ['<START>' 'a' 'black' 'dog' 'is' 'running' 'after' '<PAD>' '<PAD>'\n",
      "  '<PAD>' '<PAD>']\n",
      " ['<START>' 'a' 'black' 'dog' 'is' 'running' 'after' 'a' '<PAD>' '<PAD>'\n",
      "  '<PAD>']\n",
      " ['<START>' 'a' 'black' 'dog' 'is' 'running' 'after' 'a' 'white' '<PAD>'\n",
      "  '<PAD>']\n",
      " ['<START>' 'a' 'black' 'dog' 'is' 'running' 'after' 'a' 'white' 'dog'\n",
      "  '<PAD>']]\n"
     ]
    }
   ],
   "source": [
    "print(np.array([[index_to_word[word] for word in cap][:11] for cap in partial_captions]))"
   ]
  },
  {
   "cell_type": "code",
   "execution_count": 52,
   "metadata": {},
   "outputs": [
    {
     "data": {
      "text/plain": [
       "array([[0., 0., 0., ..., 0., 0., 0.],\n",
       "       [0., 0., 0., ..., 0., 0., 0.],\n",
       "       [0., 0., 0., ..., 0., 0., 0.],\n",
       "       ...,\n",
       "       [0., 0., 0., ..., 0., 0., 0.],\n",
       "       [0., 0., 0., ..., 0., 0., 0.],\n",
       "       [0., 0., 0., ..., 0., 0., 0.]])"
      ]
     },
     "execution_count": 52,
     "metadata": {},
     "output_type": "execute_result"
    }
   ],
   "source": [
    "next_word"
   ]
  },
  {
   "cell_type": "code",
   "execution_count": 57,
   "metadata": {},
   "outputs": [
    {
     "name": "stdout",
     "output_type": "stream",
     "text": [
      "Next word positions: [2578 7371 3519 3113 6720    7 2578 1076 3519 5070]\n",
      "Next words: ['a', 'black', 'dog', 'is', 'running', 'after', 'a', 'white', 'dog', 'in']\n"
     ]
    }
   ],
   "source": [
    "print('Next word positions:', np.nonzero(next_word)[1])\n",
    "print('Next words:', [index_to_word[word] for word in np.nonzero(next_word)[1]])"
   ]
  },
  {
   "cell_type": "code",
   "execution_count": 68,
   "metadata": {},
   "outputs": [],
   "source": [
    "from keras.models import Sequential, Model\n",
    "from keras.layers import LSTM, Embedding, TimeDistributed, Dense, RepeatVector, Activation, Flatten, concatenate\n",
    "\n",
    "DENSE_DIM = 256\n",
    "EMBEDDING_DIM = 256\n",
    "MAX_CAPTION_SIZE = max_caption_size\n",
    "VOCABULARY_SIZE = vocab_size\n",
    "\n",
    "image_model = Sequential()\n",
    "image_model.add(Dense(DENSE_DIM, input_dim=4096, activation='relu'))\n",
    "image_model.add(RepeatVector(MAX_CAPTION_SIZE))\n",
    "\n",
    "language_model = Sequential()\n",
    "language_model.add(Embedding(VOCABULARY_SIZE, EMBEDDING_DIM, input_length=MAX_CAPTION_SIZE))\n",
    "language_model.add(LSTM(256, return_sequences=True))\n",
    "language_model.add(TimeDistributed(Dense(DENSE_DIM)))\n",
    "\n",
    "merged_output = concatenate([image_model.output, language_model.output])\n",
    "merged_output = LSTM(1024, return_sequences=False)(merged_output)\n",
    "merged_output = (Dense(VOCABULARY_SIZE))(merged_output)\n",
    "merged_output = Activation('softmax')(merged_output)\n",
    "\n",
    "model = Model([image_model.input, language_model.input], merged_output)\n",
    "\n",
    "model.compile(loss='categorical_crossentropy', optimizer='rmsprop', metrics=['accuracy'])"
   ]
  },
  {
   "cell_type": "code",
   "execution_count": 69,
   "metadata": {},
   "outputs": [
    {
     "name": "stdout",
     "output_type": "stream",
     "text": [
      "____________________________________________________________________________________________________\n",
      "Layer (type)                     Output Shape          Param #     Connected to                     \n",
      "====================================================================================================\n",
      "embedding_1_input (InputLayer)   (None, 39)            0                                            \n",
      "____________________________________________________________________________________________________\n",
      "dense_1_input (InputLayer)       (None, 4096)          0                                            \n",
      "____________________________________________________________________________________________________\n",
      "embedding_1 (Embedding)          (None, 39, 256)       2029312     embedding_1_input[0][0]          \n",
      "____________________________________________________________________________________________________\n",
      "dense_1 (Dense)                  (None, 256)           1048832     dense_1_input[0][0]              \n",
      "____________________________________________________________________________________________________\n",
      "lstm_1 (LSTM)                    (None, 39, 256)       525312      embedding_1[0][0]                \n",
      "____________________________________________________________________________________________________\n",
      "repeat_vector_1 (RepeatVector)   (None, 39, 256)       0           dense_1[0][0]                    \n",
      "____________________________________________________________________________________________________\n",
      "time_distributed_1 (TimeDistribu (None, 39, 256)       65792       lstm_1[0][0]                     \n",
      "____________________________________________________________________________________________________\n",
      "concatenate_1 (Concatenate)      (None, 39, 512)       0           repeat_vector_1[0][0]            \n",
      "                                                                   time_distributed_1[0][0]         \n",
      "____________________________________________________________________________________________________\n",
      "lstm_2 (LSTM)                    (None, 1024)          6295552     concatenate_1[0][0]              \n",
      "____________________________________________________________________________________________________\n",
      "dense_3 (Dense)                  (None, 7927)          8125175     lstm_2[0][0]                     \n",
      "____________________________________________________________________________________________________\n",
      "activation_1 (Activation)        (None, 7927)          0           dense_3[0][0]                    \n",
      "====================================================================================================\n",
      "Total params: 18,089,975\n",
      "Trainable params: 18,089,975\n",
      "Non-trainable params: 0\n",
      "____________________________________________________________________________________________________\n"
     ]
    }
   ],
   "source": [
    "model.summary()"
   ]
  },
  {
   "cell_type": "code",
   "execution_count": 12,
   "metadata": {
    "collapsed": true
   },
   "outputs": [],
   "source": [
    "from keras.callbacks import ReduceLROnPlateau\n",
    "\n",
    "reduce_lr = ReduceLROnPlateau(monitor='loss', factor=0.15,\n",
    "                              patience=2, min_lr=0.000005)"
   ]
  },
  {
   "cell_type": "code",
   "execution_count": 70,
   "metadata": {},
   "outputs": [
    {
     "data": {
      "image/svg+xml": [
       "<svg height=\"636pt\" viewBox=\"0.00 0.00 590.00 636.00\" width=\"590pt\" xmlns=\"http://www.w3.org/2000/svg\" xmlns:xlink=\"http://www.w3.org/1999/xlink\">\n",
       "<g class=\"graph\" id=\"graph0\" transform=\"scale(1 1) rotate(0) translate(4 632)\">\n",
       "<title>G</title>\n",
       "<polygon fill=\"white\" points=\"-4,4 -4,-632 586,-632 586,4 -4,4\" stroke=\"none\"/>\n",
       "<!-- 1914517544408 -->\n",
       "<g class=\"node\" id=\"node1\"><title>1914517544408</title>\n",
       "<polygon fill=\"none\" points=\"50,-581.5 50,-627.5 260,-627.5 260,-581.5 50,-581.5\" stroke=\"black\"/>\n",
       "<text font-family=\"Times New Roman,serif\" font-size=\"14.00\" text-anchor=\"middle\" x=\"88.5\" y=\"-600.8\">InputLayer</text>\n",
       "<polyline fill=\"none\" points=\"127,-581.5 127,-627.5 \" stroke=\"black\"/>\n",
       "<text font-family=\"Times New Roman,serif\" font-size=\"14.00\" text-anchor=\"middle\" x=\"155\" y=\"-612.3\">input:</text>\n",
       "<polyline fill=\"none\" points=\"127,-604.5 183,-604.5 \" stroke=\"black\"/>\n",
       "<text font-family=\"Times New Roman,serif\" font-size=\"14.00\" text-anchor=\"middle\" x=\"155\" y=\"-589.3\">output:</text>\n",
       "<polyline fill=\"none\" points=\"183,-581.5 183,-627.5 \" stroke=\"black\"/>\n",
       "<text font-family=\"Times New Roman,serif\" font-size=\"14.00\" text-anchor=\"middle\" x=\"221.5\" y=\"-612.3\">(None, 39)</text>\n",
       "<polyline fill=\"none\" points=\"183,-604.5 260,-604.5 \" stroke=\"black\"/>\n",
       "<text font-family=\"Times New Roman,serif\" font-size=\"14.00\" text-anchor=\"middle\" x=\"221.5\" y=\"-589.3\">(None, 39)</text>\n",
       "</g>\n",
       "<!-- 1914517543736 -->\n",
       "<g class=\"node\" id=\"node3\"><title>1914517543736</title>\n",
       "<polygon fill=\"none\" points=\"35,-498.5 35,-544.5 275,-544.5 275,-498.5 35,-498.5\" stroke=\"black\"/>\n",
       "<text font-family=\"Times New Roman,serif\" font-size=\"14.00\" text-anchor=\"middle\" x=\"75\" y=\"-517.8\">Embedding</text>\n",
       "<polyline fill=\"none\" points=\"115,-498.5 115,-544.5 \" stroke=\"black\"/>\n",
       "<text font-family=\"Times New Roman,serif\" font-size=\"14.00\" text-anchor=\"middle\" x=\"143\" y=\"-529.3\">input:</text>\n",
       "<polyline fill=\"none\" points=\"115,-521.5 171,-521.5 \" stroke=\"black\"/>\n",
       "<text font-family=\"Times New Roman,serif\" font-size=\"14.00\" text-anchor=\"middle\" x=\"143\" y=\"-506.3\">output:</text>\n",
       "<polyline fill=\"none\" points=\"171,-498.5 171,-544.5 \" stroke=\"black\"/>\n",
       "<text font-family=\"Times New Roman,serif\" font-size=\"14.00\" text-anchor=\"middle\" x=\"223\" y=\"-529.3\">(None, 39)</text>\n",
       "<polyline fill=\"none\" points=\"171,-521.5 275,-521.5 \" stroke=\"black\"/>\n",
       "<text font-family=\"Times New Roman,serif\" font-size=\"14.00\" text-anchor=\"middle\" x=\"223\" y=\"-506.3\">(None, 39, 256)</text>\n",
       "</g>\n",
       "<!-- 1914517544408&#45;&gt;1914517543736 -->\n",
       "<g class=\"edge\" id=\"edge1\"><title>1914517544408-&gt;1914517543736</title>\n",
       "<path d=\"M155,-581.366C155,-573.152 155,-563.658 155,-554.725\" fill=\"none\" stroke=\"black\"/>\n",
       "<polygon fill=\"black\" points=\"158.5,-554.607 155,-544.607 151.5,-554.607 158.5,-554.607\" stroke=\"black\"/>\n",
       "</g>\n",
       "<!-- 1914517543400 -->\n",
       "<g class=\"node\" id=\"node2\"><title>1914517543400</title>\n",
       "<polygon fill=\"none\" points=\"343.5,-498.5 343.5,-544.5 566.5,-544.5 566.5,-498.5 343.5,-498.5\" stroke=\"black\"/>\n",
       "<text font-family=\"Times New Roman,serif\" font-size=\"14.00\" text-anchor=\"middle\" x=\"382\" y=\"-517.8\">InputLayer</text>\n",
       "<polyline fill=\"none\" points=\"420.5,-498.5 420.5,-544.5 \" stroke=\"black\"/>\n",
       "<text font-family=\"Times New Roman,serif\" font-size=\"14.00\" text-anchor=\"middle\" x=\"448.5\" y=\"-529.3\">input:</text>\n",
       "<polyline fill=\"none\" points=\"420.5,-521.5 476.5,-521.5 \" stroke=\"black\"/>\n",
       "<text font-family=\"Times New Roman,serif\" font-size=\"14.00\" text-anchor=\"middle\" x=\"448.5\" y=\"-506.3\">output:</text>\n",
       "<polyline fill=\"none\" points=\"476.5,-498.5 476.5,-544.5 \" stroke=\"black\"/>\n",
       "<text font-family=\"Times New Roman,serif\" font-size=\"14.00\" text-anchor=\"middle\" x=\"521.5\" y=\"-529.3\">(None, 4096)</text>\n",
       "<polyline fill=\"none\" points=\"476.5,-521.5 566.5,-521.5 \" stroke=\"black\"/>\n",
       "<text font-family=\"Times New Roman,serif\" font-size=\"14.00\" text-anchor=\"middle\" x=\"521.5\" y=\"-506.3\">(None, 4096)</text>\n",
       "</g>\n",
       "<!-- 1914517542728 -->\n",
       "<g class=\"node\" id=\"node4\"><title>1914517542728</title>\n",
       "<polygon fill=\"none\" points=\"356.5,-415.5 356.5,-461.5 553.5,-461.5 553.5,-415.5 356.5,-415.5\" stroke=\"black\"/>\n",
       "<text font-family=\"Times New Roman,serif\" font-size=\"14.00\" text-anchor=\"middle\" x=\"382\" y=\"-434.8\">Dense</text>\n",
       "<polyline fill=\"none\" points=\"407.5,-415.5 407.5,-461.5 \" stroke=\"black\"/>\n",
       "<text font-family=\"Times New Roman,serif\" font-size=\"14.00\" text-anchor=\"middle\" x=\"435.5\" y=\"-446.3\">input:</text>\n",
       "<polyline fill=\"none\" points=\"407.5,-438.5 463.5,-438.5 \" stroke=\"black\"/>\n",
       "<text font-family=\"Times New Roman,serif\" font-size=\"14.00\" text-anchor=\"middle\" x=\"435.5\" y=\"-423.3\">output:</text>\n",
       "<polyline fill=\"none\" points=\"463.5,-415.5 463.5,-461.5 \" stroke=\"black\"/>\n",
       "<text font-family=\"Times New Roman,serif\" font-size=\"14.00\" text-anchor=\"middle\" x=\"508.5\" y=\"-446.3\">(None, 4096)</text>\n",
       "<polyline fill=\"none\" points=\"463.5,-438.5 553.5,-438.5 \" stroke=\"black\"/>\n",
       "<text font-family=\"Times New Roman,serif\" font-size=\"14.00\" text-anchor=\"middle\" x=\"508.5\" y=\"-423.3\">(None, 256)</text>\n",
       "</g>\n",
       "<!-- 1914517543400&#45;&gt;1914517542728 -->\n",
       "<g class=\"edge\" id=\"edge2\"><title>1914517543400-&gt;1914517542728</title>\n",
       "<path d=\"M455,-498.366C455,-490.152 455,-480.658 455,-471.725\" fill=\"none\" stroke=\"black\"/>\n",
       "<polygon fill=\"black\" points=\"458.5,-471.607 455,-461.607 451.5,-471.607 458.5,-471.607\" stroke=\"black\"/>\n",
       "</g>\n",
       "<!-- 1914517543960 -->\n",
       "<g class=\"node\" id=\"node5\"><title>1914517543960</title>\n",
       "<polygon fill=\"none\" points=\"48,-415.5 48,-461.5 262,-461.5 262,-415.5 48,-415.5\" stroke=\"black\"/>\n",
       "<text font-family=\"Times New Roman,serif\" font-size=\"14.00\" text-anchor=\"middle\" x=\"75\" y=\"-434.8\">LSTM</text>\n",
       "<polyline fill=\"none\" points=\"102,-415.5 102,-461.5 \" stroke=\"black\"/>\n",
       "<text font-family=\"Times New Roman,serif\" font-size=\"14.00\" text-anchor=\"middle\" x=\"130\" y=\"-446.3\">input:</text>\n",
       "<polyline fill=\"none\" points=\"102,-438.5 158,-438.5 \" stroke=\"black\"/>\n",
       "<text font-family=\"Times New Roman,serif\" font-size=\"14.00\" text-anchor=\"middle\" x=\"130\" y=\"-423.3\">output:</text>\n",
       "<polyline fill=\"none\" points=\"158,-415.5 158,-461.5 \" stroke=\"black\"/>\n",
       "<text font-family=\"Times New Roman,serif\" font-size=\"14.00\" text-anchor=\"middle\" x=\"210\" y=\"-446.3\">(None, 39, 256)</text>\n",
       "<polyline fill=\"none\" points=\"158,-438.5 262,-438.5 \" stroke=\"black\"/>\n",
       "<text font-family=\"Times New Roman,serif\" font-size=\"14.00\" text-anchor=\"middle\" x=\"210\" y=\"-423.3\">(None, 39, 256)</text>\n",
       "</g>\n",
       "<!-- 1914517543736&#45;&gt;1914517543960 -->\n",
       "<g class=\"edge\" id=\"edge3\"><title>1914517543736-&gt;1914517543960</title>\n",
       "<path d=\"M155,-498.366C155,-490.152 155,-480.658 155,-471.725\" fill=\"none\" stroke=\"black\"/>\n",
       "<polygon fill=\"black\" points=\"158.5,-471.607 155,-461.607 151.5,-471.607 158.5,-471.607\" stroke=\"black\"/>\n",
       "</g>\n",
       "<!-- 1914517543008 -->\n",
       "<g class=\"node\" id=\"node6\"><title>1914517543008</title>\n",
       "<polygon fill=\"none\" points=\"328,-332.5 328,-378.5 582,-378.5 582,-332.5 328,-332.5\" stroke=\"black\"/>\n",
       "<text font-family=\"Times New Roman,serif\" font-size=\"14.00\" text-anchor=\"middle\" x=\"375\" y=\"-351.8\">RepeatVector</text>\n",
       "<polyline fill=\"none\" points=\"422,-332.5 422,-378.5 \" stroke=\"black\"/>\n",
       "<text font-family=\"Times New Roman,serif\" font-size=\"14.00\" text-anchor=\"middle\" x=\"450\" y=\"-363.3\">input:</text>\n",
       "<polyline fill=\"none\" points=\"422,-355.5 478,-355.5 \" stroke=\"black\"/>\n",
       "<text font-family=\"Times New Roman,serif\" font-size=\"14.00\" text-anchor=\"middle\" x=\"450\" y=\"-340.3\">output:</text>\n",
       "<polyline fill=\"none\" points=\"478,-332.5 478,-378.5 \" stroke=\"black\"/>\n",
       "<text font-family=\"Times New Roman,serif\" font-size=\"14.00\" text-anchor=\"middle\" x=\"530\" y=\"-363.3\">(None, 256)</text>\n",
       "<polyline fill=\"none\" points=\"478,-355.5 582,-355.5 \" stroke=\"black\"/>\n",
       "<text font-family=\"Times New Roman,serif\" font-size=\"14.00\" text-anchor=\"middle\" x=\"530\" y=\"-340.3\">(None, 39, 256)</text>\n",
       "</g>\n",
       "<!-- 1914517542728&#45;&gt;1914517543008 -->\n",
       "<g class=\"edge\" id=\"edge4\"><title>1914517542728-&gt;1914517543008</title>\n",
       "<path d=\"M455,-415.366C455,-407.152 455,-397.658 455,-388.725\" fill=\"none\" stroke=\"black\"/>\n",
       "<polygon fill=\"black\" points=\"458.5,-388.607 455,-378.607 451.5,-388.607 458.5,-388.607\" stroke=\"black\"/>\n",
       "</g>\n",
       "<!-- 1914734920816 -->\n",
       "<g class=\"node\" id=\"node7\"><title>1914734920816</title>\n",
       "<polygon fill=\"none\" points=\"0,-332.5 0,-378.5 310,-378.5 310,-332.5 0,-332.5\" stroke=\"black\"/>\n",
       "<text font-family=\"Times New Roman,serif\" font-size=\"14.00\" text-anchor=\"middle\" x=\"75\" y=\"-351.8\">TimeDistributed(Dense)</text>\n",
       "<polyline fill=\"none\" points=\"150,-332.5 150,-378.5 \" stroke=\"black\"/>\n",
       "<text font-family=\"Times New Roman,serif\" font-size=\"14.00\" text-anchor=\"middle\" x=\"178\" y=\"-363.3\">input:</text>\n",
       "<polyline fill=\"none\" points=\"150,-355.5 206,-355.5 \" stroke=\"black\"/>\n",
       "<text font-family=\"Times New Roman,serif\" font-size=\"14.00\" text-anchor=\"middle\" x=\"178\" y=\"-340.3\">output:</text>\n",
       "<polyline fill=\"none\" points=\"206,-332.5 206,-378.5 \" stroke=\"black\"/>\n",
       "<text font-family=\"Times New Roman,serif\" font-size=\"14.00\" text-anchor=\"middle\" x=\"258\" y=\"-363.3\">(None, 39, 256)</text>\n",
       "<polyline fill=\"none\" points=\"206,-355.5 310,-355.5 \" stroke=\"black\"/>\n",
       "<text font-family=\"Times New Roman,serif\" font-size=\"14.00\" text-anchor=\"middle\" x=\"258\" y=\"-340.3\">(None, 39, 256)</text>\n",
       "</g>\n",
       "<!-- 1914517543960&#45;&gt;1914734920816 -->\n",
       "<g class=\"edge\" id=\"edge5\"><title>1914517543960-&gt;1914734920816</title>\n",
       "<path d=\"M155,-415.366C155,-407.152 155,-397.658 155,-388.725\" fill=\"none\" stroke=\"black\"/>\n",
       "<polygon fill=\"black\" points=\"158.5,-388.607 155,-378.607 151.5,-388.607 158.5,-388.607\" stroke=\"black\"/>\n",
       "</g>\n",
       "<!-- 1914517759368 -->\n",
       "<g class=\"node\" id=\"node8\"><title>1914517759368</title>\n",
       "<polygon fill=\"none\" points=\"129.5,-249.5 129.5,-295.5 480.5,-295.5 480.5,-249.5 129.5,-249.5\" stroke=\"black\"/>\n",
       "<text font-family=\"Times New Roman,serif\" font-size=\"14.00\" text-anchor=\"middle\" x=\"172.5\" y=\"-268.8\">Concatenate</text>\n",
       "<polyline fill=\"none\" points=\"215.5,-249.5 215.5,-295.5 \" stroke=\"black\"/>\n",
       "<text font-family=\"Times New Roman,serif\" font-size=\"14.00\" text-anchor=\"middle\" x=\"243.5\" y=\"-280.3\">input:</text>\n",
       "<polyline fill=\"none\" points=\"215.5,-272.5 271.5,-272.5 \" stroke=\"black\"/>\n",
       "<text font-family=\"Times New Roman,serif\" font-size=\"14.00\" text-anchor=\"middle\" x=\"243.5\" y=\"-257.3\">output:</text>\n",
       "<polyline fill=\"none\" points=\"271.5,-249.5 271.5,-295.5 \" stroke=\"black\"/>\n",
       "<text font-family=\"Times New Roman,serif\" font-size=\"14.00\" text-anchor=\"middle\" x=\"376\" y=\"-280.3\">[(None, 39, 256), (None, 39, 256)]</text>\n",
       "<polyline fill=\"none\" points=\"271.5,-272.5 480.5,-272.5 \" stroke=\"black\"/>\n",
       "<text font-family=\"Times New Roman,serif\" font-size=\"14.00\" text-anchor=\"middle\" x=\"376\" y=\"-257.3\">(None, 39, 512)</text>\n",
       "</g>\n",
       "<!-- 1914517543008&#45;&gt;1914517759368 -->\n",
       "<g class=\"edge\" id=\"edge6\"><title>1914517543008-&gt;1914517759368</title>\n",
       "<path d=\"M414.012,-332.366C395.74,-322.5 374.052,-310.788 354.851,-300.419\" fill=\"none\" stroke=\"black\"/>\n",
       "<polygon fill=\"black\" points=\"356.401,-297.279 345.939,-295.607 353.075,-303.438 356.401,-297.279\" stroke=\"black\"/>\n",
       "</g>\n",
       "<!-- 1914734920816&#45;&gt;1914517759368 -->\n",
       "<g class=\"edge\" id=\"edge7\"><title>1914734920816-&gt;1914517759368</title>\n",
       "<path d=\"M195.988,-332.366C214.26,-322.5 235.948,-310.788 255.149,-300.419\" fill=\"none\" stroke=\"black\"/>\n",
       "<polygon fill=\"black\" points=\"256.925,-303.438 264.061,-295.607 253.599,-297.279 256.925,-303.438\" stroke=\"black\"/>\n",
       "</g>\n",
       "<!-- 1914734842040 -->\n",
       "<g class=\"node\" id=\"node9\"><title>1914734842040</title>\n",
       "<polygon fill=\"none\" points=\"198,-166.5 198,-212.5 412,-212.5 412,-166.5 198,-166.5\" stroke=\"black\"/>\n",
       "<text font-family=\"Times New Roman,serif\" font-size=\"14.00\" text-anchor=\"middle\" x=\"225\" y=\"-185.8\">LSTM</text>\n",
       "<polyline fill=\"none\" points=\"252,-166.5 252,-212.5 \" stroke=\"black\"/>\n",
       "<text font-family=\"Times New Roman,serif\" font-size=\"14.00\" text-anchor=\"middle\" x=\"280\" y=\"-197.3\">input:</text>\n",
       "<polyline fill=\"none\" points=\"252,-189.5 308,-189.5 \" stroke=\"black\"/>\n",
       "<text font-family=\"Times New Roman,serif\" font-size=\"14.00\" text-anchor=\"middle\" x=\"280\" y=\"-174.3\">output:</text>\n",
       "<polyline fill=\"none\" points=\"308,-166.5 308,-212.5 \" stroke=\"black\"/>\n",
       "<text font-family=\"Times New Roman,serif\" font-size=\"14.00\" text-anchor=\"middle\" x=\"360\" y=\"-197.3\">(None, 39, 512)</text>\n",
       "<polyline fill=\"none\" points=\"308,-189.5 412,-189.5 \" stroke=\"black\"/>\n",
       "<text font-family=\"Times New Roman,serif\" font-size=\"14.00\" text-anchor=\"middle\" x=\"360\" y=\"-174.3\">(None, 1024)</text>\n",
       "</g>\n",
       "<!-- 1914517759368&#45;&gt;1914734842040 -->\n",
       "<g class=\"edge\" id=\"edge8\"><title>1914517759368-&gt;1914734842040</title>\n",
       "<path d=\"M305,-249.366C305,-241.152 305,-231.658 305,-222.725\" fill=\"none\" stroke=\"black\"/>\n",
       "<polygon fill=\"black\" points=\"308.5,-222.607 305,-212.607 301.5,-222.607 308.5,-222.607\" stroke=\"black\"/>\n",
       "</g>\n",
       "<!-- 1914734793392 -->\n",
       "<g class=\"node\" id=\"node10\"><title>1914734793392</title>\n",
       "<polygon fill=\"none\" points=\"206.5,-83.5 206.5,-129.5 403.5,-129.5 403.5,-83.5 206.5,-83.5\" stroke=\"black\"/>\n",
       "<text font-family=\"Times New Roman,serif\" font-size=\"14.00\" text-anchor=\"middle\" x=\"232\" y=\"-102.8\">Dense</text>\n",
       "<polyline fill=\"none\" points=\"257.5,-83.5 257.5,-129.5 \" stroke=\"black\"/>\n",
       "<text font-family=\"Times New Roman,serif\" font-size=\"14.00\" text-anchor=\"middle\" x=\"285.5\" y=\"-114.3\">input:</text>\n",
       "<polyline fill=\"none\" points=\"257.5,-106.5 313.5,-106.5 \" stroke=\"black\"/>\n",
       "<text font-family=\"Times New Roman,serif\" font-size=\"14.00\" text-anchor=\"middle\" x=\"285.5\" y=\"-91.3\">output:</text>\n",
       "<polyline fill=\"none\" points=\"313.5,-83.5 313.5,-129.5 \" stroke=\"black\"/>\n",
       "<text font-family=\"Times New Roman,serif\" font-size=\"14.00\" text-anchor=\"middle\" x=\"358.5\" y=\"-114.3\">(None, 1024)</text>\n",
       "<polyline fill=\"none\" points=\"313.5,-106.5 403.5,-106.5 \" stroke=\"black\"/>\n",
       "<text font-family=\"Times New Roman,serif\" font-size=\"14.00\" text-anchor=\"middle\" x=\"358.5\" y=\"-91.3\">(None, 7927)</text>\n",
       "</g>\n",
       "<!-- 1914734842040&#45;&gt;1914734793392 -->\n",
       "<g class=\"edge\" id=\"edge9\"><title>1914734842040-&gt;1914734793392</title>\n",
       "<path d=\"M305,-166.366C305,-158.152 305,-148.658 305,-139.725\" fill=\"none\" stroke=\"black\"/>\n",
       "<polygon fill=\"black\" points=\"308.5,-139.607 305,-129.607 301.5,-139.607 308.5,-139.607\" stroke=\"black\"/>\n",
       "</g>\n",
       "<!-- 1914735097280 -->\n",
       "<g class=\"node\" id=\"node11\"><title>1914735097280</title>\n",
       "<polygon fill=\"none\" points=\"195,-0.5 195,-46.5 415,-46.5 415,-0.5 195,-0.5\" stroke=\"black\"/>\n",
       "<text font-family=\"Times New Roman,serif\" font-size=\"14.00\" text-anchor=\"middle\" x=\"232\" y=\"-19.8\">Activation</text>\n",
       "<polyline fill=\"none\" points=\"269,-0.5 269,-46.5 \" stroke=\"black\"/>\n",
       "<text font-family=\"Times New Roman,serif\" font-size=\"14.00\" text-anchor=\"middle\" x=\"297\" y=\"-31.3\">input:</text>\n",
       "<polyline fill=\"none\" points=\"269,-23.5 325,-23.5 \" stroke=\"black\"/>\n",
       "<text font-family=\"Times New Roman,serif\" font-size=\"14.00\" text-anchor=\"middle\" x=\"297\" y=\"-8.3\">output:</text>\n",
       "<polyline fill=\"none\" points=\"325,-0.5 325,-46.5 \" stroke=\"black\"/>\n",
       "<text font-family=\"Times New Roman,serif\" font-size=\"14.00\" text-anchor=\"middle\" x=\"370\" y=\"-31.3\">(None, 7927)</text>\n",
       "<polyline fill=\"none\" points=\"325,-23.5 415,-23.5 \" stroke=\"black\"/>\n",
       "<text font-family=\"Times New Roman,serif\" font-size=\"14.00\" text-anchor=\"middle\" x=\"370\" y=\"-8.3\">(None, 7927)</text>\n",
       "</g>\n",
       "<!-- 1914734793392&#45;&gt;1914735097280 -->\n",
       "<g class=\"edge\" id=\"edge10\"><title>1914734793392-&gt;1914735097280</title>\n",
       "<path d=\"M305,-83.3664C305,-75.1516 305,-65.6579 305,-56.7252\" fill=\"none\" stroke=\"black\"/>\n",
       "<polygon fill=\"black\" points=\"308.5,-56.6068 305,-46.6068 301.5,-56.6069 308.5,-56.6068\" stroke=\"black\"/>\n",
       "</g>\n",
       "</g>\n",
       "</svg>"
      ],
      "text/plain": [
       "<IPython.core.display.SVG object>"
      ]
     },
     "execution_count": 70,
     "metadata": {},
     "output_type": "execute_result"
    }
   ],
   "source": [
    "from IPython.display import SVG\n",
    "from keras.utils.vis_utils import model_to_dot\n",
    "\n",
    "SVG(model_to_dot(model, show_shapes=True, show_layer_names=False, \n",
    "    rankdir='TB').create(prog='dot', format='svg'))"
   ]
  },
  {
   "cell_type": "code",
   "execution_count": 15,
   "metadata": {},
   "outputs": [
    {
     "name": "stdout",
     "output_type": "stream",
     "text": [
      "Epoch 1/30\n",
      "1617/1617 [==============================] - 724s 448ms/step - loss: 4.1236 - acc: 0.2823\n",
      "Epoch 2/30\n",
      "1617/1617 [==============================] - 725s 448ms/step - loss: 3.9182 - acc: 0.3150\n",
      "Epoch 3/30\n",
      "1617/1617 [==============================] - 724s 448ms/step - loss: 3.8286 - acc: 0.3281\n",
      "Epoch 4/30\n",
      "1617/1617 [==============================] - 724s 448ms/step - loss: 3.8102 - acc: 0.3369\n",
      "Epoch 5/30\n",
      "1617/1617 [==============================] - 724s 448ms/step - loss: 3.7773 - acc: 0.3446\n",
      "Epoch 6/30\n",
      "1617/1617 [==============================] - 724s 448ms/step - loss: 3.7513 - acc: 0.3500\n",
      "Epoch 7/30\n",
      "1617/1617 [==============================] - 724s 448ms/step - loss: 3.7250 - acc: 0.3533\n",
      "Epoch 8/30\n",
      "1617/1617 [==============================] - 724s 448ms/step - loss: 3.7613 - acc: 0.3568\n",
      "Epoch 9/30\n",
      "1617/1617 [==============================] - 724s 448ms/step - loss: 3.7421 - acc: 0.3593\n",
      "Epoch 10/30\n",
      "1617/1617 [==============================] - 724s 448ms/step - loss: 3.6979 - acc: 0.3635\n",
      "Epoch 11/30\n",
      "1617/1617 [==============================] - 724s 448ms/step - loss: 3.6917 - acc: 0.3655\n",
      "Epoch 12/30\n",
      "1617/1617 [==============================] - 724s 448ms/step - loss: 3.6911 - acc: 0.3668\n",
      "Epoch 13/30\n",
      "1617/1617 [==============================] - 724s 448ms/step - loss: 3.6864 - acc: 0.3695\n",
      "Epoch 14/30\n",
      "1617/1617 [==============================] - 724s 448ms/step - loss: 3.6922 - acc: 0.3711\n",
      "Epoch 15/30\n",
      "1617/1617 [==============================] - 724s 448ms/step - loss: 3.6616 - acc: 0.3734\n",
      "Epoch 16/30\n",
      "1617/1617 [==============================] - 724s 448ms/step - loss: 3.6630 - acc: 0.3745\n",
      "Epoch 17/30\n",
      "1617/1617 [==============================] - 724s 448ms/step - loss: 3.6568 - acc: 0.3773\n",
      "Epoch 18/30\n",
      "1617/1617 [==============================] - 723s 447ms/step - loss: 3.6480 - acc: 0.3785\n",
      "Epoch 19/30\n",
      "1617/1617 [==============================] - 724s 448ms/step - loss: 3.6359 - acc: 0.3817\n",
      "Epoch 20/30\n",
      "1617/1617 [==============================] - 724s 448ms/step - loss: 3.6497 - acc: 0.3817\n",
      "Epoch 21/30\n",
      "1617/1617 [==============================] - 724s 448ms/step - loss: 3.6470 - acc: 0.3835\n",
      "Epoch 22/30\n",
      "1617/1617 [==============================] - 724s 448ms/step - loss: 3.6218 - acc: 0.3846\n",
      "Epoch 23/30\n",
      "1617/1617 [==============================] - 724s 448ms/step - loss: 3.6293 - acc: 0.3865\n",
      "Epoch 24/30\n",
      "1617/1617 [==============================] - 724s 448ms/step - loss: 3.6319 - acc: 0.3874\n",
      "Epoch 25/30\n",
      "1617/1617 [==============================] - 724s 448ms/step - loss: 3.6165 - acc: 0.3886\n",
      "Epoch 26/30\n",
      "1617/1617 [==============================] - 724s 448ms/step - loss: 3.6101 - acc: 0.3893\n",
      "Epoch 27/30\n",
      "1617/1617 [==============================] - 724s 448ms/step - loss: 3.6177 - acc: 0.3897\n",
      "Epoch 28/30\n",
      "1617/1617 [==============================] - 724s 448ms/step - loss: 3.6347 - acc: 0.3906\n",
      "Epoch 29/30\n",
      "1617/1617 [==============================] - 724s 447ms/step - loss: 3.6443 - acc: 0.3885\n",
      "Epoch 30/30\n",
      "1617/1617 [==============================] - 724s 448ms/step - loss: 3.4656 - acc: 0.4078\n"
     ]
    }
   ],
   "source": [
    "BATCH_SIZE = 256\n",
    "EPOCHS = 30\n",
    "cap_lens = [(cl-1) for cl in tc_tokens_length]\n",
    "total_size = sum(cap_lens)\n",
    "\n",
    "history = model.fit_generator(dataset_generator(processed_captions=processed_train_captions, \n",
    "                                                transfer_learnt_features=train_img_features, \n",
    "                                                vocab_size=VOCABULARY_SIZE, max_caption_size=MAX_CAPTION_SIZE,\n",
    "                                                batch_size=BATCH_SIZE), \n",
    "                              steps_per_epoch=int(total_size/BATCH_SIZE), \n",
    "                              callbacks=[reduce_lr],\n",
    "                              epochs=EPOCHS, verbose=1)"
   ]
  },
  {
   "cell_type": "code",
   "execution_count": 16,
   "metadata": {
    "collapsed": true
   },
   "outputs": [],
   "source": [
    "model.save('ic_model_rmsprop_b256ep30.h5') "
   ]
  },
  {
   "cell_type": "code",
   "execution_count": 22,
   "metadata": {},
   "outputs": [
    {
     "name": "stdout",
     "output_type": "stream",
     "text": [
      "Epoch 31/50\n",
      "1617/1617 [==============================] - 724s 447ms/step - loss: 3.3988 - acc: 0.4144\n",
      "Epoch 32/50\n",
      "1617/1617 [==============================] - 724s 448ms/step - loss: 3.3633 - acc: 0.4184\n",
      "Epoch 33/50\n",
      "1617/1617 [==============================] - 724s 448ms/step - loss: 3.3374 - acc: 0.4221\n",
      "Epoch 34/50\n",
      "1617/1617 [==============================] - 724s 448ms/step - loss: 3.3186 - acc: 0.4249\n",
      "Epoch 35/50\n",
      "1617/1617 [==============================] - 724s 448ms/step - loss: 3.2979 - acc: 0.4275\n",
      "Epoch 36/50\n",
      "1617/1617 [==============================] - 724s 448ms/step - loss: 3.2795 - acc: 0.4298\n",
      "Epoch 37/50\n",
      "1617/1617 [==============================] - 724s 448ms/step - loss: 3.2644 - acc: 0.4321\n",
      "Epoch 38/50\n",
      "1617/1617 [==============================] - 724s 448ms/step - loss: 3.2503 - acc: 0.4342\n",
      "Epoch 39/50\n",
      "1617/1617 [==============================] - 724s 448ms/step - loss: 3.2368 - acc: 0.4358\n",
      "Epoch 40/50\n",
      "1617/1617 [==============================] - 724s 448ms/step - loss: 3.2248 - acc: 0.4376\n",
      "Epoch 41/50\n",
      "1617/1617 [==============================] - 724s 448ms/step - loss: 3.2126 - acc: 0.4391\n",
      "Epoch 42/50\n",
      "1617/1617 [==============================] - 723s 447ms/step - loss: 3.2014 - acc: 0.4407\n",
      "Epoch 43/50\n",
      "1617/1617 [==============================] - 723s 447ms/step - loss: 3.1886 - acc: 0.4421\n",
      "Epoch 44/50\n",
      "1617/1617 [==============================] - 724s 448ms/step - loss: 3.1786 - acc: 0.4444\n",
      "Epoch 45/50\n",
      "1617/1617 [==============================] - 724s 447ms/step - loss: 3.1703 - acc: 0.4457\n",
      "Epoch 46/50\n",
      "1617/1617 [==============================] - 724s 447ms/step - loss: 3.1616 - acc: 0.4468\n",
      "Epoch 47/50\n",
      "1617/1617 [==============================] - 724s 447ms/step - loss: 3.1511 - acc: 0.4480\n",
      "Epoch 48/50\n",
      "1617/1617 [==============================] - 724s 448ms/step - loss: 3.1420 - acc: 0.4494\n",
      "Epoch 49/50\n",
      "1617/1617 [==============================] - 724s 448ms/step - loss: 3.1330 - acc: 0.4509\n",
      "Epoch 50/50\n",
      "1617/1617 [==============================] - 724s 448ms/step - loss: 3.1260 - acc: 0.4523\n"
     ]
    }
   ],
   "source": [
    "EPOCHS = 50\n",
    "\n",
    "history_rest = model.fit_generator(dataset_generator(processed_captions=processed_train_captions, \n",
    "                                                transfer_learnt_features=train_img_features, \n",
    "                                                vocab_size=VOCABULARY_SIZE, max_caption_size=MAX_CAPTION_SIZE,\n",
    "                                                batch_size=BATCH_SIZE), \n",
    "                              steps_per_epoch=int(total_size/BATCH_SIZE), \n",
    "                              callbacks=[reduce_lr],\n",
    "                              epochs=EPOCHS, verbose=1, initial_epoch=30)"
   ]
  },
  {
   "cell_type": "code",
   "execution_count": 23,
   "metadata": {
    "collapsed": true
   },
   "outputs": [],
   "source": [
    "model.save('ic_model_rmsprop_b256ep50.h5') "
   ]
  },
  {
   "cell_type": "code",
   "execution_count": 24,
   "metadata": {
    "collapsed": true
   },
   "outputs": [],
   "source": [
    "epochs = list(range(1,51))\n",
    "losses = history.history['loss'] + history_rest.history['loss'] \n",
    "accs = history.history['acc'] + history_rest.history['acc'] \n",
    "lrs = history.history['lr'] + history_rest.history['lr'] "
   ]
  },
  {
   "cell_type": "code",
   "execution_count": 25,
   "metadata": {},
   "outputs": [
    {
     "data": {
      "text/plain": [
       "<matplotlib.text.Text at 0x7f599d8707b8>"
      ]
     },
     "execution_count": 25,
     "metadata": {},
     "output_type": "execute_result"
    },
    {
     "data": {
      "image/png": "[encoded data removed]",
      "text/plain": [
       "<matplotlib.figure.Figure at 0x7f599d997a20>"
      ]
     },
     "metadata": {},
     "output_type": "display_data"
    }
   ],
   "source": [
    "f, (ax1, ax2, ax3) = plt.subplots(1, 3, figsize=(14, 4))\n",
    "title = f.suptitle(\"Model Training History\", fontsize=14)\n",
    "f.subplots_adjust(top=0.85, wspace=0.35)\n",
    "\n",
    "ax1.plot(epochs, losses, label='Loss')\n",
    "ax2.plot(epochs, accs,  label='Accuracy')\n",
    "ax3.plot(epochs, lrs, label='Learning Rate')\n",
    "\n",
    "ax1.set_xlabel('Epochs')\n",
    "ax2.set_xlabel('Epochs')\n",
    "ax3.set_xlabel('Epochs')\n",
    "ax1.set_ylabel('Loss')\n",
    "ax2.set_ylabel('Accuracy')\n",
    "ax3.set_ylabel('Learning Rate')"
   ]
  }
 ],
 "metadata": {
  "anaconda-cloud": {},
  "kernelspec": {
   "display_name": "Python [default]",
   "language": "python",
   "name": "python3"
  },
  "language_info": {
   "codemirror_mode": {
    "name": "ipython",
    "version": 3
   },
   "file_extension": ".py",
   "mimetype": "text/x-python",
   "name": "python",
   "nbconvert_exporter": "python",
   "pygments_lexer": "ipython3",
   "version": "3.5.2"
  }
 },
 "nbformat": 4,
 "nbformat_minor": 2
}
